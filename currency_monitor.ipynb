{
 "cells": [
  {
   "cell_type": "markdown",
   "metadata": {},
   "source": [
    "# Currency Monitor"
   ]
  },
  {
   "cell_type": "markdown",
   "metadata": {},
   "source": [
    "The goal of the development of the currency monitor is to provide an alternative to the use of static currency sheets used to assist in matters related to currency conversion.The currency monitor script uses information from the XE currency site. The information is then parsed and appended into a database to allow for historical analysis. The database is created from a series of multiple currency monitor CSV files extracted from the site everyday and averaged and aggregated into a master file. "
   ]
  },
  {
   "cell_type": "markdown",
   "metadata": {},
   "source": [
    "### Importing libraries"
   ]
  },
  {
   "cell_type": "markdown",
   "metadata": {},
   "source": [
    "Five libaries are imported in order to allow for the parsing of different types of data. For this operation the currency code, currency name, currency in USD, and currency inverse are all extracted from a site first using the urllib operation. They are all then parsed using conventional Python and then arranged in data frames created using the Pandas library. The fifth library allows for visualization of the currency data."
   ]
  },
  {
   "cell_type": "code",
   "execution_count": 11,
   "metadata": {
    "collapsed": false
   },
   "outputs": [],
   "source": [
    "#Import the necessary libraries\n",
    "from urllib2 import urlopen #Allows for calling urls\n",
    "from lxml import html #Allows for the extract of hypertext markup language\n",
    "import requests #Allows for requests against the hypertext markup language \n",
    "import pandas as pd #Allows for all data to be organized in a dataframe\n",
    "import glob as g\n",
    "\n",
    "import matplotlib.pyplot as plt #Allows for visualizations of the currencies\n",
    "%matplotlib inline\n",
    "\n",
    "import datetime\n",
    "now = datetime.datetime.now()\n",
    "day=\"%s/%s/%s\" % (now.day, now.month, now.year)\n",
    "year=now.year\n",
    "month=now.month\n",
    "\n",
    "import time\n",
    "time=time.strftime(\"%d%m%Y\")\n",
    "\n",
    "import sys\n",
    "reload(sys)\n",
    "sys.setdefaultencoding('utf8')\n",
    "\n",
    "daily_ex='G:\\Pricing\\IC Opt project\\pi_implementation\\currency conversion\\daily\\currency_data_'+time+'.csv'\n",
    "monthly_ex='G:\\Pricing\\IC Opt project\\pi_implementation\\currency conversion\\monthly\\currency_monthly_data.csv'"
   ]
  },
  {
   "cell_type": "markdown",
   "metadata": {},
   "source": [
    "### Pull down the Information From the Site to Identify Prices and Currency Codes"
   ]
  },
  {
   "cell_type": "code",
   "execution_count": 12,
   "metadata": {
    "collapsed": false
   },
   "outputs": [],
   "source": [
    "page = requests.get('http://www.xe.com/currencytables/?from=USD')\n",
    "tree = html.fromstring(page.content)"
   ]
  },
  {
   "cell_type": "markdown",
   "metadata": {},
   "source": [
    "### Price"
   ]
  },
  {
   "cell_type": "code",
   "execution_count": 13,
   "metadata": {
    "collapsed": false
   },
   "outputs": [],
   "source": [
    "#This will create a list of prices\n",
    "prices =\\\n",
    "tree.xpath('//td[@class=\"historicalRateTable-rateHeader\"]/text()')\n",
    "\n",
    "currency =\\\n",
    "tree.xpath('//a [@href]/text()')"
   ]
  },
  {
   "cell_type": "markdown",
   "metadata": {},
   "source": [
    "### Currency"
   ]
  },
  {
   "cell_type": "code",
   "execution_count": 14,
   "metadata": {
    "collapsed": false
   },
   "outputs": [],
   "source": [
    "currency =\\\n",
    "tree.xpath('//a [@href]/text()')\n",
    "\n",
    "currency=\\\n",
    "currency[77:242]"
   ]
  },
  {
   "cell_type": "markdown",
   "metadata": {},
   "source": [
    "### Create the Currecny Price Lists"
   ]
  },
  {
   "cell_type": "code",
   "execution_count": 15,
   "metadata": {
    "collapsed": false
   },
   "outputs": [],
   "source": [
    "currency=\\\n",
    "code=pd.DataFrame.from_dict(currency)\n",
    "currency.rename(columns={0:'CURRENCYCODE'}, inplace=True)\n",
    "\n",
    "#currency_name=\\\n",
    "#pd.DataFrame.from_dict(urls)\n",
    "#currency_name.rename(columns={0:'CURRENCYNAME'}, inplace=True)\n",
    "#currency_name=currency_name['CURRENCYNAME'].str.replace('/currency/','')"
   ]
  },
  {
   "cell_type": "markdown",
   "metadata": {},
   "source": [
    "### Create a Series of Lists to Insert the Curerncy Information"
   ]
  },
  {
   "cell_type": "code",
   "execution_count": 16,
   "metadata": {
    "collapsed": false
   },
   "outputs": [],
   "source": [
    " USD,EUR,GBP,INR,AUD,CAD,SGD,CHF,MYR,JPY,CNY,NZD,THB,HUF,AED,HKD,MXN,ZAR,PHP,SEK,IDR,SAR\\\n",
    ",BRL,TRY,KES,KRW,EGP,IQD,NOK,KWD,RUB,DKK,PKR,ILS,PLN,QAR,XAU,OMR,COP,CLP,TWD,ARS,CZK,VND\\\n",
    ",MAD,JOD,BHD,XOF,LKR,UAH,NGN,TND,UGX,RON,BDT,PEN,GEL,XAF,FJD,VEF,BYN,HRK,UZS,BGN,DZD,IRR\\\n",
    ",DOP,ISK,XAG,CRC,SYP,LYD,JMD,MUR,GHS,AOA,UYU,AFN,LBP,XPF,TTD,TZS,ALL,XCD,GTQ,NPR,BOB,ZWD\\\n",
    ",BBD,CUC,LAK,BND,BWP,HNL,PYG,ETB,NAD,PGK,SDG,MOP,NIO,BMD,KZT,PAB,BAM,GYD,YER,MGA,KYD,MZN\\\n",
    ",RSD,SCR,AMD,SBD,AZN,SLL,TOP,BZD,MWK,GMD,BIF,SOS,HTG,GNF,MVR,MNT,CDF,STD,TJS,KPW,MMK,LSL\\\n",
    ",LRD,KGS,GIP,XPT,MDL,CUP,KHR,MKD,VUV,MRO,ANG,SZL,CVE,SRD,XPD,SVC,BSD,XDR,RWF,AWG,DJF,BTN\\\n",
    ",KMF,WST,SPL,ERN,FKP,SHP,JEP,TMT,TVD,IMP,GGP=([] for i in range(165))\n"
   ]
  },
  {
   "cell_type": "markdown",
   "metadata": {},
   "source": [
    "### Extract From the Main List the  Amounts and Assign them to Currency Specific Lists"
   ]
  },
  {
   "cell_type": "code",
   "execution_count": 17,
   "metadata": {
    "collapsed": false
   },
   "outputs": [],
   "source": [
    "USD.append(prices[0:2])\n",
    "EUR.append(prices[2:4])\n",
    "GBP.append(prices[4:6])\n",
    "INR.append(prices[6:8])\n",
    "AUD.append(prices[8:10])\n",
    "CAD.append(prices[10:12])\n",
    "SGD.append(prices[12:14])\n",
    "CHF.append(prices[14:16])\n",
    "MYR.append(prices[16:18])\n",
    "JPY.append(prices[18:20])\n",
    "CNY.append(prices[20:22])\n",
    "NZD.append(prices[22:24])\n",
    "THB.append(prices[24:26])\n",
    "HUF.append(prices[26:28])\n",
    "AED.append(prices[28:30])\n",
    "HKD.append(prices[30:32])\n",
    "MXN.append(prices[32:34])\n",
    "ZAR.append(prices[34:36])\n",
    "PHP.append(prices[36:38])\n",
    "SEK.append(prices[38:40])\n",
    "IDR.append(prices[40:42])\n",
    "SAR.append(prices[42:44])\n",
    "BRL.append(prices[44:46])\n",
    "TRY.append(prices[46:48])\n",
    "KES.append(prices[48:50])\n",
    "KRW.append(prices[50:52])\n",
    "EGP.append(prices[52:54])\n",
    "IQD.append(prices[54:56])\n",
    "NOK.append(prices[56:58])\n",
    "KWD.append(prices[58:60])\n",
    "RUB.append(prices[60:62])\n",
    "DKK.append(prices[62:64])\n",
    "PKR.append(prices[64:66])\n",
    "ILS.append(prices[66:68])\n",
    "PLN.append(prices[68:70])\n",
    "QAR.append(prices[70:72])\n",
    "XAU.append(prices[72:74])\n",
    "OMR.append(prices[74:76])\n",
    "COP.append(prices[76:78])\n",
    "CLP.append(prices[78:80])\n",
    "TWD.append(prices[80:82])\n",
    "ARS.append(prices[82:84])\n",
    "CZK.append(prices[84:86])\n",
    "VND.append(prices[86:88])\n",
    "MAD.append(prices[88:90])\n",
    "JOD.append(prices[90:92])\n",
    "BHD.append(prices[92:94])\n",
    "XOF.append(prices[94:96])\n",
    "LKR.append(prices[96:98])\n",
    "UAH.append(prices[98:100])\n",
    "NGN.append(prices[100:102])\n",
    "TND.append(prices[102:104])\n",
    "UGX.append(prices[104:106])\n",
    "RON.append(prices[106:108])\n",
    "BDT.append(prices[108:110])\n",
    "PEN.append(prices[110:112])\n",
    "GEL.append(prices[112:114])\n",
    "XAF.append(prices[114:116])\n",
    "FJD.append(prices[116:118])\n",
    "VEF.append(prices[118:120])\n",
    "BYN.append(prices[120:122])\n",
    "HRK.append(prices[122:124])\n",
    "UZS.append(prices[124:126])\n",
    "BGN.append(prices[126:128])\n",
    "DZD.append(prices[128:130])\n",
    "IRR.append(prices[130:132])\n",
    "DOP.append(prices[132:134])\n",
    "ISK.append(prices[134:136])\n",
    "XAG.append(prices[136:138])\n",
    "CRC.append(prices[138:140])\n",
    "SYP.append(prices[140:142])\n",
    "LYD.append(prices[142:144])\n",
    "JMD.append(prices[144:146])\n",
    "MUR.append(prices[146:148])\n",
    "GHS.append(prices[148:150])\n",
    "AOA.append(prices[150:152])\n",
    "UYU.append(prices[152:154])\n",
    "AFN.append(prices[154:156])\n",
    "LBP.append(prices[156:158])\n",
    "XPF.append(prices[158:160])\n",
    "TTD.append(prices[160:162])\n",
    "TZS.append(prices[162:164])\n",
    "ALL.append(prices[164:166])\n",
    "XCD.append(prices[166:168])\n",
    "GTQ.append(prices[168:170])\n",
    "NPR.append(prices[170:172])\n",
    "BOB.append(prices[172:174])\n",
    "ZWD.append(prices[174:176])\n",
    "BBD.append(prices[176:178])\n",
    "CUC.append(prices[178:180])\n",
    "LAK.append(prices[180:182])\n",
    "BND.append(prices[182:184])\n",
    "BWP.append(prices[184:186])\n",
    "HNL.append(prices[186:188])\n",
    "PYG.append(prices[188:190])\n",
    "ETB.append(prices[190:192])\n",
    "NAD.append(prices[192:194])\n",
    "PGK.append(prices[194:196])\n",
    "SDG.append(prices[196:198])\n",
    "MOP.append(prices[198:200])\n",
    "NIO.append(prices[200:202])\n",
    "BMD.append(prices[202:204])\n",
    "KZT.append(prices[204:206])\n",
    "PAB.append(prices[206:208])\n",
    "BAM.append(prices[208:210])\n",
    "GYD.append(prices[210:212])\n",
    "YER.append(prices[212:214])\n",
    "MGA.append(prices[214:216])\n",
    "KYD.append(prices[216:218])\n",
    "MZN.append(prices[218:220])\n",
    "RSD.append(prices[220:222])\n",
    "SCR.append(prices[222:224])\n",
    "AMD.append(prices[224:226])\n",
    "SBD.append(prices[226:228])\n",
    "AZN.append(prices[228:230])\n",
    "SLL.append(prices[230:232])\n",
    "TOP.append(prices[232:234])\n",
    "BZD.append(prices[234:236])\n",
    "MWK.append(prices[236:238])\n",
    "GMD.append(prices[238:240])\n",
    "BIF.append(prices[240:242])\n",
    "SOS.append(prices[242:244])\n",
    "HTG.append(prices[244:246])\n",
    "GNF.append(prices[246:248])\n",
    "MVR.append(prices[248:250])\n",
    "MNT.append(prices[250:252])\n",
    "CDF.append(prices[252:254])\n",
    "STD.append(prices[254:256])\n",
    "TJS.append(prices[256:258])\n",
    "KPW.append(prices[258:260])\n",
    "MMK.append(prices[260:262])\n",
    "LSL.append(prices[262:264])\n",
    "LRD.append(prices[264:266])\n",
    "KGS.append(prices[266:268])\n",
    "GIP.append(prices[268:270])\n",
    "XPT.append(prices[270:272])\n",
    "MDL.append(prices[272:274])\n",
    "CUP.append(prices[274:276])\n",
    "KHR.append(prices[276:278])\n",
    "MKD.append(prices[278:280])\n",
    "VUV.append(prices[280:282])\n",
    "MRO.append(prices[282:284])\n",
    "ANG.append(prices[284:286])\n",
    "SZL.append(prices[286:288])\n",
    "CVE.append(prices[288:290])\n",
    "SRD.append(prices[290:292])\n",
    "XPD.append(prices[292:294])\n",
    "SVC.append(prices[294:296])\n",
    "BSD.append(prices[296:298])\n",
    "XDR.append(prices[298:300])\n",
    "RWF.append(prices[300:302])\n",
    "AWG.append(prices[302:304])\n",
    "DJF.append(prices[304:306])\n",
    "BTN.append(prices[306:308])\n",
    "KMF.append(prices[308:310])\n",
    "WST.append(prices[310:312])\n",
    "SPL.append(prices[312:314])\n",
    "ERN.append(prices[314:316])\n",
    "FKP.append(prices[316:318])\n",
    "SHP.append(prices[318:320])\n",
    "JEP.append(prices[320:322])\n",
    "TMT.append(prices[322:324])\n",
    "TVD.append(prices[324:326])\n",
    "IMP.append(prices[326:328])\n",
    "GGP.append(prices[328:330])\n"
   ]
  },
  {
   "cell_type": "markdown",
   "metadata": {},
   "source": [
    "### Combine All of the Currency Lists"
   ]
  },
  {
   "cell_type": "code",
   "execution_count": 18,
   "metadata": {
    "collapsed": false
   },
   "outputs": [],
   "source": [
    "all_currencies=\\\n",
    "USD+EUR+GBP+INR+AUD+CAD+SGD+CHF+MYR+JPY+CNY+NZD+THB+HUF+AED+HKD+MXN+ZAR+PHP+SEK+IDR+SAR+BRL+TRY+KES+KRW+EGP+IQD\\\n",
    "+NOK+KWD+RUB+DKK+PKR+ILS+PLN+QAR+XAU+OMR+COP+CLP+TWD+ARS+CZK+VND+MAD+JOD+BHD+XOF+LKR+UAH+NGN+TND+UGX+RON+BDT+PEN+GEL+XAF+FJD+VEF\\\n",
    "+BYN+HRK+UZS+BGN+DZD+IRR+DOP+ISK+XAG+CRC+SYP+LYD+JMD+MUR+GHS+AOA+UYU+AFN+LBP+XPF+TTD+TZS+ALL+XCD+GTQ+NPR+BOB+ZWD+BBD+CUC+LAK+BND\\\n",
    "+BWP+HNL+PYG+ETB+NAD+PGK+SDG+MOP+NIO+BMD+KZT+PAB+BAM+GYD+YER+MGA+KYD+MZN+RSD+SCR+AMD+SBD+AZN+SLL+TOP+BZD+MWK+GMD+BIF+SOS+HTG+GNF\\\n",
    "+MVR+MNT+CDF+STD+TJS+KPW+MMK+LSL+LRD+KGS+GIP+XPT+MDL+CUP+KHR+MKD+VUV+MRO+ANG+SZL+CVE+SRD+XPD+SVC+BSD+XDR+RWF+AWG+DJF+BTN+KMF+WST\\\n",
    "+SPL+ERN+FKP+SHP+JEP+TMT+TVD+IMP+GGP\n",
    "#Combine all of the lists using the + operator. This list is a list of pairs that can then be retunred as a two column dataframe"
   ]
  },
  {
   "cell_type": "markdown",
   "metadata": {},
   "source": [
    "### Transform the List of Lists into a Dataframe"
   ]
  },
  {
   "cell_type": "code",
   "execution_count": 19,
   "metadata": {
    "collapsed": false
   },
   "outputs": [],
   "source": [
    "all_currencies=\\\n",
    "pd.DataFrame.from_dict(all_currencies)\n",
    "all_currencies.rename(columns={0:'EXCHANGE_AMOUNT',1:'USD_AMOUNT'}, inplace=True)"
   ]
  },
  {
   "cell_type": "code",
   "execution_count": 20,
   "metadata": {
    "collapsed": true
   },
   "outputs": [],
   "source": [
    "all_currencies['DATE']=day\n",
    "all_currencies['MONTH']=month\n",
    "all_currencies['YEAR']=year"
   ]
  },
  {
   "cell_type": "markdown",
   "metadata": {},
   "source": [
    "### Combine the Dataframes into One Comprehensive Source"
   ]
  },
  {
   "cell_type": "code",
   "execution_count": 21,
   "metadata": {
    "collapsed": false
   },
   "outputs": [],
   "source": [
    "currency_output=\\\n",
    "pd.concat([currency, all_currencies], axis=1) \n",
    "currency_output.info()\n",
    "#The information is combined using the concat operation. Since all are the same length the data is merged on the index"
   ]
  },
  {
   "cell_type": "markdown",
   "metadata": {},
   "source": [
    "### Provide a Sample of the Final Data Output"
   ]
  },
  {
   "cell_type": "code",
   "execution_count": 22,
   "metadata": {
    "collapsed": false
   },
   "outputs": [],
   "source": [
    "currency_output_working_data=currency_output"
   ]
  },
  {
   "cell_type": "code",
   "execution_count": 23,
   "metadata": {
    "collapsed": false
   },
   "outputs": [
    {
     "data": {
      "text/html": [
       "<div>\n",
       "<table border=\"1\" class=\"dataframe\">\n",
       "  <thead>\n",
       "    <tr style=\"text-align: right;\">\n",
       "      <th></th>\n",
       "      <th>CURRENCYCODE</th>\n",
       "      <th>EXCHANGE_AMOUNT</th>\n",
       "      <th>USD_AMOUNT</th>\n",
       "      <th>DATE</th>\n",
       "      <th>MONTH</th>\n",
       "      <th>YEAR</th>\n",
       "    </tr>\n",
       "  </thead>\n",
       "  <tbody>\n",
       "    <tr>\n",
       "      <th>0</th>\n",
       "      <td>USD</td>\n",
       "      <td>1.0000000000</td>\n",
       "      <td>1.0000000000</td>\n",
       "      <td>18/4/2017</td>\n",
       "      <td>4</td>\n",
       "      <td>2017</td>\n",
       "    </tr>\n",
       "    <tr>\n",
       "      <th>1</th>\n",
       "      <td>EUR</td>\n",
       "      <td>0.9328209469</td>\n",
       "      <td>1.0720170932</td>\n",
       "      <td>18/4/2017</td>\n",
       "      <td>4</td>\n",
       "      <td>2017</td>\n",
       "    </tr>\n",
       "    <tr>\n",
       "      <th>2</th>\n",
       "      <td>GBP</td>\n",
       "      <td>0.7795532895</td>\n",
       "      <td>1.2827859410</td>\n",
       "      <td>18/4/2017</td>\n",
       "      <td>4</td>\n",
       "      <td>2017</td>\n",
       "    </tr>\n",
       "    <tr>\n",
       "      <th>3</th>\n",
       "      <td>INR</td>\n",
       "      <td>64.5967609008</td>\n",
       "      <td>0.0154806524</td>\n",
       "      <td>18/4/2017</td>\n",
       "      <td>4</td>\n",
       "      <td>2017</td>\n",
       "    </tr>\n",
       "    <tr>\n",
       "      <th>4</th>\n",
       "      <td>AUD</td>\n",
       "      <td>1.3236543673</td>\n",
       "      <td>0.7554842297</td>\n",
       "      <td>18/4/2017</td>\n",
       "      <td>4</td>\n",
       "      <td>2017</td>\n",
       "    </tr>\n",
       "    <tr>\n",
       "      <th>5</th>\n",
       "      <td>CAD</td>\n",
       "      <td>1.3379680235</td>\n",
       "      <td>0.7474020174</td>\n",
       "      <td>18/4/2017</td>\n",
       "      <td>4</td>\n",
       "      <td>2017</td>\n",
       "    </tr>\n",
       "    <tr>\n",
       "      <th>6</th>\n",
       "      <td>SGD</td>\n",
       "      <td>1.3968148540</td>\n",
       "      <td>0.7159144944</td>\n",
       "      <td>18/4/2017</td>\n",
       "      <td>4</td>\n",
       "      <td>2017</td>\n",
       "    </tr>\n",
       "    <tr>\n",
       "      <th>7</th>\n",
       "      <td>CHF</td>\n",
       "      <td>0.9970025868</td>\n",
       "      <td>1.0030064247</td>\n",
       "      <td>18/4/2017</td>\n",
       "      <td>4</td>\n",
       "      <td>2017</td>\n",
       "    </tr>\n",
       "    <tr>\n",
       "      <th>8</th>\n",
       "      <td>MYR</td>\n",
       "      <td>4.4109989263</td>\n",
       "      <td>0.2267060176</td>\n",
       "      <td>18/4/2017</td>\n",
       "      <td>4</td>\n",
       "      <td>2017</td>\n",
       "    </tr>\n",
       "    <tr>\n",
       "      <th>9</th>\n",
       "      <td>JPY</td>\n",
       "      <td>108.5329659495</td>\n",
       "      <td>0.0092137904</td>\n",
       "      <td>18/4/2017</td>\n",
       "      <td>4</td>\n",
       "      <td>2017</td>\n",
       "    </tr>\n",
       "    <tr>\n",
       "      <th>10</th>\n",
       "      <td>CNY</td>\n",
       "      <td>6.8825134660</td>\n",
       "      <td>0.1452957564</td>\n",
       "      <td>18/4/2017</td>\n",
       "      <td>4</td>\n",
       "      <td>2017</td>\n",
       "    </tr>\n",
       "  </tbody>\n",
       "</table>\n",
       "</div>"
      ],
      "text/plain": [
       "   CURRENCYCODE EXCHANGE_AMOUNT    USD_AMOUNT       DATE  MONTH  YEAR\n",
       "0           USD    1.0000000000  1.0000000000  18/4/2017      4  2017\n",
       "1           EUR    0.9328209469  1.0720170932  18/4/2017      4  2017\n",
       "2           GBP    0.7795532895  1.2827859410  18/4/2017      4  2017\n",
       "3           INR   64.5967609008  0.0154806524  18/4/2017      4  2017\n",
       "4           AUD    1.3236543673  0.7554842297  18/4/2017      4  2017\n",
       "5           CAD    1.3379680235  0.7474020174  18/4/2017      4  2017\n",
       "6           SGD    1.3968148540  0.7159144944  18/4/2017      4  2017\n",
       "7           CHF    0.9970025868  1.0030064247  18/4/2017      4  2017\n",
       "8           MYR    4.4109989263  0.2267060176  18/4/2017      4  2017\n",
       "9           JPY  108.5329659495  0.0092137904  18/4/2017      4  2017\n",
       "10          CNY    6.8825134660  0.1452957564  18/4/2017      4  2017"
      ]
     },
     "execution_count": 23,
     "metadata": {},
     "output_type": "execute_result"
    }
   ],
   "source": [
    "currency_output_working_data.head(11)#simply display the first five lines, providing a smaple of the finished product"
   ]
  },
  {
   "cell_type": "markdown",
   "metadata": {},
   "source": [
    "### Convert the Data to Numeric"
   ]
  },
  {
   "cell_type": "code",
   "execution_count": 24,
   "metadata": {
    "collapsed": false
   },
   "outputs": [],
   "source": [
    "currency_output_working_data['USD_AMOUNT']=pd.to_numeric(currency_output_working_data['USD_AMOUNT'], errors='ignore')\n",
    "currency_output_working_data['EXCHANGE_AMOUNT']=pd.to_numeric(currency_output_working_data['EXCHANGE_AMOUNT'], errors='ignore')\n",
    "currency_output_working_data=currency_output_working_data[(currency_output_working_data['USD_AMOUNT']<=4)] #don't show anything more than 4 USD\n",
    "currency_output_working_data.info()"
   ]
  },
  {
   "cell_type": "markdown",
   "metadata": {},
   "source": [
    "### Move the Data to Daily File Repository"
   ]
  },
  {
   "cell_type": "code",
   "execution_count": 25,
   "metadata": {
    "collapsed": false,
    "scrolled": true
   },
   "outputs": [],
   "source": [
    "currency_output_working_data.to_csv(daily_ex)"
   ]
  },
  {
   "cell_type": "markdown",
   "metadata": {},
   "source": [
    "### Select the First Ten Currencies to Plot"
   ]
  },
  {
   "cell_type": "code",
   "execution_count": 26,
   "metadata": {
    "collapsed": false
   },
   "outputs": [],
   "source": [
    "currency_output_plot_data=currency_output_working_data[['CURRENCYCODE','USD_AMOUNT']].head(11) #Show only the first 10 currencies\n",
    "currency_output_plot_data=currency_output_plot_data.set_index('CURRENCYCODE')#Set the currency code as the index"
   ]
  },
  {
   "cell_type": "markdown",
   "metadata": {},
   "source": [
    "### Create Plot Table"
   ]
  },
  {
   "cell_type": "code",
   "execution_count": 27,
   "metadata": {
    "collapsed": false
   },
   "outputs": [
    {
     "data": {
      "text/html": [
       "<div>\n",
       "<table border=\"1\" class=\"dataframe\">\n",
       "  <thead>\n",
       "    <tr style=\"text-align: right;\">\n",
       "      <th></th>\n",
       "      <th>USD_AMOUNT</th>\n",
       "    </tr>\n",
       "    <tr>\n",
       "      <th>CURRENCYCODE</th>\n",
       "      <th></th>\n",
       "    </tr>\n",
       "  </thead>\n",
       "  <tbody>\n",
       "    <tr>\n",
       "      <th>USD</th>\n",
       "      <td>1.000000</td>\n",
       "    </tr>\n",
       "    <tr>\n",
       "      <th>EUR</th>\n",
       "      <td>1.072017</td>\n",
       "    </tr>\n",
       "    <tr>\n",
       "      <th>GBP</th>\n",
       "      <td>1.282786</td>\n",
       "    </tr>\n",
       "    <tr>\n",
       "      <th>INR</th>\n",
       "      <td>0.015481</td>\n",
       "    </tr>\n",
       "    <tr>\n",
       "      <th>AUD</th>\n",
       "      <td>0.755484</td>\n",
       "    </tr>\n",
       "    <tr>\n",
       "      <th>CAD</th>\n",
       "      <td>0.747402</td>\n",
       "    </tr>\n",
       "    <tr>\n",
       "      <th>SGD</th>\n",
       "      <td>0.715914</td>\n",
       "    </tr>\n",
       "    <tr>\n",
       "      <th>CHF</th>\n",
       "      <td>1.003006</td>\n",
       "    </tr>\n",
       "    <tr>\n",
       "      <th>MYR</th>\n",
       "      <td>0.226706</td>\n",
       "    </tr>\n",
       "    <tr>\n",
       "      <th>JPY</th>\n",
       "      <td>0.009214</td>\n",
       "    </tr>\n",
       "    <tr>\n",
       "      <th>CNY</th>\n",
       "      <td>0.145296</td>\n",
       "    </tr>\n",
       "  </tbody>\n",
       "</table>\n",
       "</div>"
      ],
      "text/plain": [
       "              USD_AMOUNT\n",
       "CURRENCYCODE            \n",
       "USD             1.000000\n",
       "EUR             1.072017\n",
       "GBP             1.282786\n",
       "INR             0.015481\n",
       "AUD             0.755484\n",
       "CAD             0.747402\n",
       "SGD             0.715914\n",
       "CHF             1.003006\n",
       "MYR             0.226706\n",
       "JPY             0.009214\n",
       "CNY             0.145296"
      ]
     },
     "execution_count": 27,
     "metadata": {},
     "output_type": "execute_result"
    }
   ],
   "source": [
    "currency_output_plot_data #show the currency code table"
   ]
  },
  {
   "cell_type": "markdown",
   "metadata": {},
   "source": [
    "### Plot the Top Ten Currencies Exchange for the Current Date"
   ]
  },
  {
   "cell_type": "code",
   "execution_count": 112,
   "metadata": {
    "collapsed": false
   },
   "outputs": [
    {
     "data": {
      "text/plain": [
       "<matplotlib.text.Text at 0xeae8be0>"
      ]
     },
     "execution_count": 112,
     "metadata": {},
     "output_type": "execute_result"
    },
    {
     "data": {
      "image/png": "[encoded data removed]",
      "text/plain": [
       "<matplotlib.figure.Figure at 0xe9a4eb8>"
      ]
     },
     "metadata": {},
     "output_type": "display_data"
    }
   ],
   "source": [
    "charts=currency_output_plot_data.sort(columns='USD_AMOUNT',ascending=False).plot(kind='bar',legend=None,title=\"Top Ten World Currencies (USD)\")\n",
    "charts.set_xlabel(\"Currency Code\")\n",
    "charts.set_ylabel(\"USD\")"
   ]
  },
  {
   "cell_type": "markdown",
   "metadata": {},
   "source": [
    "## Create a Database of the Daily Currency Files"
   ]
  },
  {
   "cell_type": "code",
   "execution_count": 86,
   "metadata": {
    "collapsed": false
   },
   "outputs": [],
   "source": [
    "path =r'G:\\Pricing\\IC Opt project\\pi_implementation\\currency conversion\\daily'#Establishes the path of where the files are domicled\n",
    "filenames = g.glob(path + \"/*.csv\") #glob identifies the unix style pathway pattern. In this case we tell glob to identify CSV files in a certain path \n",
    "\n",
    "dfs=[]#create a blank list\n",
    "for filename in filenames: #The filenames are assigned to a list, this operation will run through each of the files and append them to a list\n",
    "    dfs.append(pd.read_csv(filename))\n",
    "    \n",
    "big_frame = pd.concat(dfs, ignore_index=True)#this combines the list of files together, make sure the column names are the same"
   ]
  },
  {
   "cell_type": "code",
   "execution_count": 87,
   "metadata": {
    "collapsed": false
   },
   "outputs": [],
   "source": [
    "big_frame=big_frame[['DATE','MONTH','YEAR','CURRENCYCODE','EXCHANGE_AMOUNT','USD_AMOUNT']] #select the fields from the appended info I want to use to build the repository"
   ]
  },
  {
   "cell_type": "markdown",
   "metadata": {},
   "source": [
    "## Track the Currency Trends for the GBP"
   ]
  },
  {
   "cell_type": "code",
   "execution_count": 129,
   "metadata": {
    "collapsed": false
   },
   "outputs": [
    {
     "data": {
      "text/html": [
       "<div>\n",
       "<table border=\"1\" class=\"dataframe\">\n",
       "  <thead>\n",
       "    <tr>\n",
       "      <th></th>\n",
       "      <th>USD_AMOUNT</th>\n",
       "    </tr>\n",
       "    <tr>\n",
       "      <th>CURRENCYCODE</th>\n",
       "      <th>GBP</th>\n",
       "    </tr>\n",
       "    <tr>\n",
       "      <th>DATE</th>\n",
       "      <th></th>\n",
       "    </tr>\n",
       "  </thead>\n",
       "  <tbody>\n",
       "    <tr>\n",
       "      <th>10/4/2017</th>\n",
       "      <td>1.242527</td>\n",
       "    </tr>\n",
       "    <tr>\n",
       "      <th>11/4/2017</th>\n",
       "      <td>1.248843</td>\n",
       "    </tr>\n",
       "    <tr>\n",
       "      <th>13/4/2017</th>\n",
       "      <td>1.250658</td>\n",
       "    </tr>\n",
       "    <tr>\n",
       "      <th>14/4/2017</th>\n",
       "      <td>1.253227</td>\n",
       "    </tr>\n",
       "    <tr>\n",
       "      <th>17/4/2017</th>\n",
       "      <td>1.258715</td>\n",
       "    </tr>\n",
       "    <tr>\n",
       "      <th>18/4/2017</th>\n",
       "      <td>1.282786</td>\n",
       "    </tr>\n",
       "  </tbody>\n",
       "</table>\n",
       "</div>"
      ],
      "text/plain": [
       "             USD_AMOUNT\n",
       "CURRENCYCODE        GBP\n",
       "DATE                   \n",
       "10/4/2017      1.242527\n",
       "11/4/2017      1.248843\n",
       "13/4/2017      1.250658\n",
       "14/4/2017      1.253227\n",
       "17/4/2017      1.258715\n",
       "18/4/2017      1.282786"
      ]
     },
     "execution_count": 129,
     "metadata": {},
     "output_type": "execute_result"
    }
   ],
   "source": [
    "curr_gbp=big_frame[['DATE','USD_AMOUNT','CURRENCYCODE']][(big_frame['CURRENCYCODE']=='GBP')]\n",
    "curr_gbp['DATE']=curr_gbp['DATE'].astype(str)\n",
    "curr_gbp=curr_gbp.pivot_table(['USD_AMOUNT'],index=['DATE'],columns=['CURRENCYCODE'])\n",
    "curr_gbp"
   ]
  },
  {
   "cell_type": "code",
   "execution_count": 130,
   "metadata": {
    "collapsed": false
   },
   "outputs": [
    {
     "data": {
      "text/plain": [
       "<matplotlib.axes._subplots.AxesSubplot at 0xf772a90>"
      ]
     },
     "execution_count": 130,
     "metadata": {},
     "output_type": "execute_result"
    },
    {
     "data": {
      "image/png": "[encoded data removed]",
      "text/plain": [
       "<matplotlib.figure.Figure at 0xf65a048>"
      ]
     },
     "metadata": {},
     "output_type": "display_data"
    }
   ],
   "source": [
    "curr_gbp_plot=curr_gbp\n",
    "curr_gbp_plot.plot(kind='line',title='GBP Currency Trend')"
   ]
  },
  {
   "cell_type": "markdown",
   "metadata": {},
   "source": [
    "## Average the Currency Data for the Month"
   ]
  },
  {
   "cell_type": "code",
   "execution_count": 33,
   "metadata": {
    "collapsed": false
   },
   "outputs": [],
   "source": [
    "big_frame_plot=big_frame.groupby(['CURRENCYCODE','MONTH'],as_index=False)['USD_AMOUNT'].mean() #group the information on the avearge USD Amount"
   ]
  },
  {
   "cell_type": "markdown",
   "metadata": {},
   "source": [
    "## Output a Sample of the Monthly Average List"
   ]
  },
  {
   "cell_type": "code",
   "execution_count": 111,
   "metadata": {
    "collapsed": false
   },
   "outputs": [
    {
     "data": {
      "text/html": [
       "<div>\n",
       "<table border=\"1\" class=\"dataframe\">\n",
       "  <thead>\n",
       "    <tr style=\"text-align: right;\">\n",
       "      <th></th>\n",
       "      <th>MONTH</th>\n",
       "      <th>CURRENCYCODE</th>\n",
       "      <th>USD_AMOUNT</th>\n",
       "    </tr>\n",
       "  </thead>\n",
       "  <tbody>\n",
       "    <tr>\n",
       "      <th>7</th>\n",
       "      <td>4</td>\n",
       "      <td>AUD</td>\n",
       "      <td>0.755307</td>\n",
       "    </tr>\n",
       "    <tr>\n",
       "      <th>25</th>\n",
       "      <td>4</td>\n",
       "      <td>CAD</td>\n",
       "      <td>0.750396</td>\n",
       "    </tr>\n",
       "    <tr>\n",
       "      <th>27</th>\n",
       "      <td>4</td>\n",
       "      <td>CHF</td>\n",
       "      <td>0.996114</td>\n",
       "    </tr>\n",
       "    <tr>\n",
       "      <th>29</th>\n",
       "      <td>4</td>\n",
       "      <td>CNY</td>\n",
       "      <td>0.145147</td>\n",
       "    </tr>\n",
       "    <tr>\n",
       "      <th>43</th>\n",
       "      <td>4</td>\n",
       "      <td>EUR</td>\n",
       "      <td>1.063814</td>\n",
       "    </tr>\n",
       "    <tr>\n",
       "      <th>46</th>\n",
       "      <td>4</td>\n",
       "      <td>GBP</td>\n",
       "      <td>1.256126</td>\n",
       "    </tr>\n",
       "    <tr>\n",
       "      <th>63</th>\n",
       "      <td>4</td>\n",
       "      <td>INR</td>\n",
       "      <td>0.015490</td>\n",
       "    </tr>\n",
       "    <tr>\n",
       "      <th>70</th>\n",
       "      <td>4</td>\n",
       "      <td>JPY</td>\n",
       "      <td>0.009159</td>\n",
       "    </tr>\n",
       "    <tr>\n",
       "      <th>98</th>\n",
       "      <td>4</td>\n",
       "      <td>MYR</td>\n",
       "      <td>0.226362</td>\n",
       "    </tr>\n",
       "    <tr>\n",
       "      <th>124</th>\n",
       "      <td>4</td>\n",
       "      <td>SGD</td>\n",
       "      <td>0.714629</td>\n",
       "    </tr>\n",
       "  </tbody>\n",
       "</table>\n",
       "</div>"
      ],
      "text/plain": [
       "     MONTH CURRENCYCODE  USD_AMOUNT\n",
       "7        4          AUD    0.755307\n",
       "25       4          CAD    0.750396\n",
       "27       4          CHF    0.996114\n",
       "29       4          CNY    0.145147\n",
       "43       4          EUR    1.063814\n",
       "46       4          GBP    1.256126\n",
       "63       4          INR    0.015490\n",
       "70       4          JPY    0.009159\n",
       "98       4          MYR    0.226362\n",
       "124      4          SGD    0.714629"
      ]
     },
     "execution_count": 111,
     "metadata": {},
     "output_type": "execute_result"
    }
   ],
   "source": [
    "big_frame_plot[['MONTH','CURRENCYCODE','USD_AMOUNT']][(big_frame_plot['CURRENCYCODE']=='EUR')\n",
    "                                                      |(big_frame_plot['CURRENCYCODE']=='GBP')\n",
    "                                                      |(big_frame_plot['CURRENCYCODE']=='AUD')\n",
    "                                                      |(big_frame_plot['CURRENCYCODE']=='MYR')                                                      \n",
    "                                                      |(big_frame_plot['CURRENCYCODE']=='JPY')\n",
    "                                                      |(big_frame_plot['CURRENCYCODE']=='CNY')\n",
    "                                                      |(big_frame_plot['CURRENCYCODE']=='CHF')\n",
    "                                                      |(big_frame_plot['CURRENCYCODE']=='CAD')\n",
    "                                                      |(big_frame_plot['CURRENCYCODE']=='INR')\n",
    "                                                      |(big_frame_plot['CURRENCYCODE']=='SGD')] #Output the desired information"
   ]
  },
  {
   "cell_type": "markdown",
   "metadata": {},
   "source": [
    "## Send the Files to the Monthly Repository"
   ]
  },
  {
   "cell_type": "code",
   "execution_count": 35,
   "metadata": {
    "collapsed": true
   },
   "outputs": [],
   "source": [
    "big_frame_plot.to_csv(monthly_ex)#export the data to a montly average file to be applied against our currency conversion operations in different processes"
   ]
  }
 ],
 "metadata": {
  "anaconda-cloud": {},
  "kernelspec": {
   "display_name": "Python [default]",
   "language": "python",
   "name": "python2"
  },
  "language_info": {
   "codemirror_mode": {
    "name": "ipython",
    "version": 2
   },
   "file_extension": ".py",
   "mimetype": "text/x-python",
   "name": "python",
   "nbconvert_exporter": "python",
   "pygments_lexer": "ipython2",
   "version": "2.7.12"
  }
 },
 "nbformat": 4,
 "nbformat_minor": 1
}
